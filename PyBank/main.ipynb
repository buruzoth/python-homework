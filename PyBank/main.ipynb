{
 "cells": [
  {
   "cell_type": "code",
   "execution_count": 35,
   "metadata": {},
   "outputs": [
    {
     "data": {
      "text/plain": [
       "'/Users/buruzothbalasubramaniam/python-homework/PyBank'"
      ]
     },
     "execution_count": 35,
     "metadata": {},
     "output_type": "execute_result"
    }
   ],
   "source": [
    "pwd"
   ]
  },
  {
   "cell_type": "code",
   "execution_count": 37,
   "metadata": {},
   "outputs": [
    {
     "name": "stdout",
     "output_type": "stream",
     "text": [
      "Financial Analysis\n",
      "---------------------------------------------------------------------------------------------------\n",
      "Total Months: 86\n",
      "Total Revenue: $ 38382578.0\n",
      "Average Profit Change: $ -2315\n",
      "Greatest Increase in Profits: Feb-2012 ($ 1926159.0 )\n",
      "Greatest Decrease in Profits: Sep-2013 ($ -2196167.0 )\n"
     ]
    }
   ],
   "source": [
    "from pathlib import Path\n",
    "import csv\n",
    "import pandas as pd\n",
    "\n",
    "Source = \"02-Homework_02-Python_PyBank_Resources_budget_data.csv\"\n",
    "\n",
    "\n",
    "with open(Source) as budget_df:\n",
    "    reader = csv.reader(budget_df)\n",
    "\n",
    "    next(reader) \n",
    "    profit = []\n",
    "    date = []\n",
    "    profit_delta = []\n",
    "\n",
    "    for row in reader:\n",
    "        profit.append(float(row[1]))\n",
    "        date.append(row[0])\n",
    "        \n",
    "    total_months=len(date)\n",
    "    total_profit=float(row[1])\n",
    "\n",
    "    print(\"Financial Analysis\")\n",
    "    print(\"---------------------------------------------------------------------------------------------------\")\n",
    "    print (\"Total Months:\", len(date))\n",
    "    print(\"Total Profit: $\", sum(profit))\n",
    "\n",
    "    for i in range(1,len(profit)):\n",
    "        profit_delta.append(profit[i] - profit[i-1])   \n",
    "        average_profit_delta = sum(profit_delta)/len(profit_delta)\n",
    "\n",
    "        max_profit_delta = max(profit_delta)\n",
    "\n",
    "        min_profit_delta = min(profit_delta)\n",
    "\n",
    "        max_profit_delta_date = str(date[profit_delta.index(max_profit_delta)+1])\n",
    "        min_profit_delta_date = str(date[profit_delta.index(min_profit_delta)+1])\n",
    "\n",
    "\n",
    "    print(\"Average Profit Change: $\", round(average_profit_delta))\n",
    "    print(\"Greatest Increase in Profits:\", max_profit_delta_date,\"($\", max_profit_delta,\")\")\n",
    "    print(\"Greatest Decrease in Profits:\", min_profit_delta_date,\"($\", min_profit_delta,\")\")\n",
    "    \n",
    "budget_data_dataframe = pd.read_csv(\"02-Homework_02-Python_PyBank_Resources_budget_data.csv\")\n",
    "total_profit=budget_data_dataframe[\"Profit/Losses\"].sum()\n",
    "\n",
    "output_path = 'output.txt'\n",
    "\n",
    "with open(output_path, 'w') as file:\n",
    "    file.write(f\"Financial Analysis\\n\")\n",
    "    file.write(f\"-----------------------------------------------------------------------------------------\\n\")\n",
    "    file.write(f\"Total Months: {total_months}\\n\")\n",
    "    file.write(f\"Total Profit: ${total_profit}\\n\")\n",
    "    file.write(f\"Average Change: ${round(average_profit_delta,2)}\\n\")\n",
    "    file.write(f\"Greatest Increase in Profits: {max_profit_delta_date} \"  f\"(${int(max_profit_delta)})\\n\")\n",
    "    file.write(f\"Greatest Decrease in Profits: {min_profit_delta_date} \"  f\"(${int(min_profit_delta)})\\n\")  "
   ]
  },
  {
   "cell_type": "code",
   "execution_count": null,
   "metadata": {},
   "outputs": [],
   "source": []
  }
 ],
 "metadata": {
  "kernelspec": {
   "display_name": "Python 3",
   "language": "python",
   "name": "python3"
  },
  "language_info": {
   "codemirror_mode": {
    "name": "ipython",
    "version": 3
   },
   "file_extension": ".py",
   "mimetype": "text/x-python",
   "name": "python",
   "nbconvert_exporter": "python",
   "pygments_lexer": "ipython3",
   "version": "3.7.6"
  }
 },
 "nbformat": 4,
 "nbformat_minor": 4
}
